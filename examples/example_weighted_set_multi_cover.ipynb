{
 "cells": [
  {
   "cell_type": "markdown",
   "id": "49d777419932b3f5",
   "metadata": {
    "collapsed": false
   },
   "source": [
    "In this notebook, we show how to run the decision-focused learning algorithms SFGE [1] and LANCER [2] on the Weighted-Set Multi Cover problem."
   ]
  },
  {
   "metadata": {},
   "cell_type": "code",
   "outputs": [],
   "execution_count": null,
   "source": [
    "import os\n",
    "import sys\n",
    "\n",
    "path_to_project = os.path.dirname(os.path.abspath(\"\")) + \"/\"\n",
    "sys.path.append(os.path.dirname(os.path.dirname(os.path.abspath(\"decision-focused-learning-codebase\"))))"
   ],
   "id": "d5c7161f991d778b"
  },
  {
   "cell_type": "code",
   "id": "34ff71844c03e602",
   "metadata": {
    "collapsed": false,
    "ExecuteTime": {
     "end_time": "2025-08-21T13:33:07.186198Z",
     "start_time": "2025-08-21T13:33:04.399916Z"
    }
   },
   "source": [
    "import inspect\n",
    "\n",
    "from src.concrete_models.grbpy_two_stage_weighted_set_multi_cover import (\n",
    "    WeightedSetMultiCover,\n",
    ")\n",
    "from src.decision_makers.differentiable_decision_maker import (\n",
    "    DifferentiableDecisionMaker,\n",
    ")\n",
    "from src.decision_makers.lancer_decision_maker import LancerDecisionMaker\n",
    "from src.decision_makers.sfge_decision_maker import SFGEDecisionMaker\n",
    "from src.generate_data_functions.generate_data_wsmc import gen_data_wsmc\n",
    "from src.problem import Problem\n",
    "from src.runner import Runner"
   ],
   "outputs": [
    {
     "name": "stderr",
     "output_type": "stream",
     "text": [
      "(CVXPY) Aug 21 03:33:06 PM: Encountered unexpected exception importing solver GLOP:\n",
      "RuntimeError('Unrecognized new version of ortools (9.14.6206). Expected < 9.12.0. Please open a feature request on cvxpy to enable support for this version.')\n",
      "(CVXPY) Aug 21 03:33:06 PM: Encountered unexpected exception importing solver PDLP:\n",
      "RuntimeError('Unrecognized new version of ortools (9.14.6206). Expected < 9.12.0. Please open a feature request on cvxpy to enable support for this version.')\n"
     ]
    },
    {
     "name": "stdout",
     "output_type": "stream",
     "text": [
      "Auto-Sklearn cannot be imported.\n"
     ]
    }
   ],
   "execution_count": 1
  },
  {
   "cell_type": "markdown",
   "id": "a33c8d96e8e6fd23",
   "metadata": {
    "collapsed": false
   },
   "source": [
    "The Weighted Set Multi-Cover Problem with Recourse Actions is characterized as follows:\n",
    "\n",
    "- There is a set of elements that need to be covered by a collection of sets.\n",
    "- Each set covers a subset of the elements.\n",
    "- Each element has a coverage requirement, specifying how many times it must be covered.\n",
    "- Each set has a cost, and the objective is to select sets to minimize the total cost while ensuring all coverage requirements are met.\n",
    "\n",
    "We look specifically at the two-stage variant of the problem, where:\n",
    "- In the first-stage, the sets are selected, while the coverage requirements are unknown.\n",
    "- The true coverage requirements are revealed in the second-stage.\n",
    "- A recourse action allows corrects for the items that were not covered, and assigns a penalty based on the missed items.\n",
    "- A special variant of the problem has also a recourse in the other direction, namely by looking at the number of unused sets.\n"
   ]
  },
  {
   "cell_type": "markdown",
   "id": "7cada4b11b8058ba",
   "metadata": {
    "collapsed": false
   },
   "source": [
    "We now construct and `OptimizationModel` some given parameters (we set the recovery ratio to 0, such that there is only a recourse for uncovered items) and print the settings that are used in the initialization."
   ]
  },
  {
   "cell_type": "code",
   "id": "71d640b6b056e952",
   "metadata": {
    "collapsed": false,
    "ExecuteTime": {
     "end_time": "2025-08-21T13:33:10.066301Z",
     "start_time": "2025-08-21T13:33:10.047557Z"
    }
   },
   "source": [
    "model = WeightedSetMultiCover(\n",
    "    num_items=2,\n",
    "    num_covers=3,\n",
    "    penalty=5,\n",
    "    cover_costs_lb=5,\n",
    "    cover_costs_ub=50,\n",
    "    seed=5,\n",
    "    recovery_ratio=0,\n",
    ")\n",
    "print(f\"Settings: {inspect.signature(model.__init__)}\")"
   ],
   "outputs": [
    {
     "name": "stdout",
     "output_type": "stream",
     "text": [
      "Set parameter Username\n",
      "Set parameter LicenseID to value 2612263\n",
      "Academic license - for non-commercial use only - expires 2026-01-20\n",
      "Set parameter FeasibilityTol to value 1e-06\n",
      "Settings: (num_items: int, num_covers: int, penalty: float, cover_costs_lb: int, cover_costs_ub: int, recovery_ratio: float = 0, seed: int = 0, silvestri2023: bool = False, density: float = 0.25, num_scenarios: int = 1)\n"
     ]
    }
   ],
   "execution_count": 2
  },
  {
   "cell_type": "markdown",
   "id": "7ec66687d02e3b78",
   "metadata": {
    "collapsed": false
   },
   "source": [
    "The `seed` parameter and the arguments `cover_costs_lb` and `cover_costs_ub` determine the fixed cover costs parameters that are set in the optimization model. "
   ]
  },
  {
   "cell_type": "code",
   "id": "d6c498570fa22c3b",
   "metadata": {
    "collapsed": false,
    "ExecuteTime": {
     "end_time": "2025-08-21T13:33:12.466371Z",
     "start_time": "2025-08-21T13:33:12.464012Z"
    }
   },
   "source": [
    "print(f\"The cover costs for this WSMC are given by {model.cover_costs}\")"
   ],
   "outputs": [
    {
     "name": "stdout",
     "output_type": "stream",
     "text": [
      "The cover costs for this WSMC are given by [40. 19. 49.]\n"
     ]
    }
   ],
   "execution_count": 3
  },
  {
   "cell_type": "markdown",
   "id": "21387a061e4c1f5a",
   "metadata": {
    "collapsed": false
   },
   "source": [
    "The parameters to predict for this problem are the coverage requirements:"
   ]
  },
  {
   "cell_type": "code",
   "id": "f5084ea70327e0b0",
   "metadata": {
    "collapsed": false,
    "ExecuteTime": {
     "end_time": "2025-08-21T13:33:13.614553Z",
     "start_time": "2025-08-21T13:33:13.612209Z"
    }
   },
   "source": [
    "print(model.param_to_predict_names)"
   ],
   "outputs": [
    {
     "name": "stdout",
     "output_type": "stream",
     "text": [
      "['coverage_requirements']\n"
     ]
    }
   ],
   "execution_count": 4
  },
  {
   "cell_type": "markdown",
   "id": "1a0f350d5592d96f",
   "metadata": {
    "collapsed": false
   },
   "source": [
    "We can use a data generation script to generate our train and test data. This data generation script could be replaced by reading the data from a file. "
   ]
  },
  {
   "cell_type": "code",
   "id": "90b28595abbcec84",
   "metadata": {
    "collapsed": false,
    "ExecuteTime": {
     "end_time": "2025-08-21T13:33:14.560456Z",
     "start_time": "2025-08-21T13:33:14.552010Z"
    }
   },
   "source": [
    "data_dict = gen_data_wsmc(\n",
    "    seed=4,\n",
    "    num_data=500,\n",
    "    num_features=5,\n",
    "    num_items=model.num_items,\n",
    "    degree=1,\n",
    "    noise_width=0.5,\n",
    ")\n",
    "print(data_dict.keys())"
   ],
   "outputs": [
    {
     "name": "stdout",
     "output_type": "stream",
     "text": [
      "dict_keys(['coverage_requirements', 'features'])\n"
     ]
    }
   ],
   "execution_count": 5
  },
  {
   "cell_type": "code",
   "id": "ad9d4bef61b3c28b",
   "metadata": {
    "collapsed": false,
    "ExecuteTime": {
     "end_time": "2025-08-21T13:33:16.383984Z",
     "start_time": "2025-08-21T13:33:16.382062Z"
    }
   },
   "source": [
    "print(f\"The shape of the features are {data_dict['features'].shape}\")\n",
    "print(f\"The shape of the coverage requirements are {data_dict['coverage_requirements'].shape}\")"
   ],
   "outputs": [
    {
     "name": "stdout",
     "output_type": "stream",
     "text": [
      "The shape of the features are (500, 5)\n",
      "The shape of the coverage requirements are (500, 2)\n"
     ]
    }
   ],
   "execution_count": 6
  },
  {
   "cell_type": "markdown",
   "id": "7112c48503d565f5",
   "metadata": {
    "collapsed": false
   },
   "source": [
    "We are making use of a problem class to split the generated data into a training set, a validation set and a test set."
   ]
  },
  {
   "cell_type": "code",
   "id": "a11f435786fe3b1e",
   "metadata": {
    "collapsed": false,
    "ExecuteTime": {
     "end_time": "2025-08-21T13:33:18.817525Z",
     "start_time": "2025-08-21T13:33:17.670497Z"
    }
   },
   "source": [
    "problem = Problem(\n",
    "    data_dict=data_dict,\n",
    "    opt_model=model,\n",
    "    train_ratio=0.4,\n",
    "    val_ratio=0.2,\n",
    "    compute_optimal_decisions=True,\n",
    "    compute_optimal_objectives=True,\n",
    ")"
   ],
   "outputs": [
    {
     "name": "stdout",
     "output_type": "stream",
     "text": [
      "Computing optimal decisions for the entire dataset...\n",
      "Optimal decisions computed and added to dataset.\n",
      "Computing optimal objectives for the entire dataset...\n",
      "Optimal objectives computed and added to dataset.\n",
      "Shuffling indices before splitting...\n",
      "Dataset split completed: Train=200, Validation=100, Test=200\n"
     ]
    }
   ],
   "execution_count": 7
  },
  {
   "cell_type": "markdown",
   "id": "b9d353fbc7cc009b",
   "metadata": {
    "collapsed": false
   },
   "source": [
    "We can access the train/validation and test instances through the problem class:"
   ]
  },
  {
   "cell_type": "code",
   "id": "af48c7beaad6cb1b",
   "metadata": {
    "collapsed": false,
    "ExecuteTime": {
     "end_time": "2025-08-21T13:33:20.175533Z",
     "start_time": "2025-08-21T13:33:20.173791Z"
    }
   },
   "source": [
    "print(f\"The size of the training set equals {problem.train_size}, which corresponds to the number of training indices {len(problem.train_indices)}.\")"
   ],
   "outputs": [
    {
     "name": "stdout",
     "output_type": "stream",
     "text": [
      "The size of the training set equals 200, which corresponds to the number of training indices 200.\n"
     ]
    }
   ],
   "execution_count": 8
  },
  {
   "cell_type": "markdown",
   "id": "e77bcd622df92f86",
   "metadata": {
    "collapsed": false
   },
   "source": [
    "Now we are almost set to run a DFL algorithm. All DFL algorithms have their own objects, which are subclasses from the base `DecisionMaker` object. We need to pass the `Problem` object to the `DecisionMaker` at initialization. The DecisionMaker also includes the predictive model, for which we pass the arguments by `predictor_str` and `predictor_kwargs`. "
   ]
  },
  {
   "cell_type": "code",
   "id": "db608988696c6129",
   "metadata": {
    "collapsed": false,
    "ExecuteTime": {
     "end_time": "2025-08-21T13:33:21.454645Z",
     "start_time": "2025-08-21T13:33:21.452681Z"
    }
   },
   "source": [
    "predictor_kwargs = {\n",
    "    \"size\": 256,\n",
    "    \"n_layers\": 2,\n",
    "    \"activation\": \"leaky_relu\",\n",
    "    \"output_activation\": \"leaky_relu\",\n",
    "}\n",
    "predictor_str = \"MLP\""
   ],
   "outputs": [],
   "execution_count": 9
  },
  {
   "cell_type": "markdown",
   "id": "5892935ac72a6388",
   "metadata": {
    "collapsed": false
   },
   "source": [
    "These can be passed to the `DecisionMaker`"
   ]
  },
  {
   "cell_type": "code",
   "id": "46978ee5e6c169e1",
   "metadata": {
    "collapsed": false,
    "ExecuteTime": {
     "end_time": "2025-08-21T13:33:23.460876Z",
     "start_time": "2025-08-21T13:33:22.968906Z"
    }
   },
   "source": [
    "decision_maker = SFGEDecisionMaker(\n",
    "    problem=problem,\n",
    "    learning_rate=0.005,\n",
    "    batch_size=32,\n",
    "    device_str=\"cpu\",\n",
    "    loss_function_str=\"regret\",\n",
    "    predictor_str=predictor_str,\n",
    "    predictor_kwargs=predictor_kwargs,\n",
    "    noisifier_kwargs={\"sigma_setting\": \"independent\", \"sigma_init\": 0.5},\n",
    ")"
   ],
   "outputs": [
    {
     "name": "stdout",
     "output_type": "stream",
     "text": [
      "Problem mode set to: train\n",
      "Problem mode set to: train\n",
      "set learning rate to 0.005\n"
     ]
    }
   ],
   "execution_count": 10
  },
  {
   "cell_type": "markdown",
   "id": "6c97350fc7bd33e6",
   "metadata": {
    "collapsed": false
   },
   "source": [
    "We need use the `Runner` class to run our DFL algorithm"
   ]
  },
  {
   "cell_type": "code",
   "id": "5558b370648867dc",
   "metadata": {
    "collapsed": false,
    "ExecuteTime": {
     "end_time": "2025-08-21T13:33:26.903573Z",
     "start_time": "2025-08-21T13:33:24.781376Z"
    }
   },
   "source": [
    "runner = Runner(decision_maker, num_epochs=2, use_wandb=False)\n",
    "runner.run()"
   ],
   "outputs": [
    {
     "name": "stdout",
     "output_type": "stream",
     "text": [
      "Epoch 0/2: Starting initial validation...\n",
      "Problem mode set to: validation\n"
     ]
    },
    {
     "name": "stderr",
     "output_type": "stream",
     "text": [
      "/Users/noah/PycharmProjects/decision-focused-learning-codebase/src/problem.py:494: UserWarning: Converting a tensor with requires_grad=True to a scalar may lead to unexpected behavior.\n",
      "Consider using tensor.detach() first. (Triggered internally at /Users/runner/work/pytorch/pytorch/pytorch/torch/csrc/autograd/generated/python_variable_methods.cpp:836.)\n",
      "  losses_tensor = torch.tensor(losses_list)\n"
     ]
    },
    {
     "name": "stdout",
     "output_type": "stream",
     "text": [
      "Epoch Results:\n",
      "validation/objective_mean: 521.0078\n",
      "validation/sym_rel_regret_mean: 0.2200\n",
      "validation/mse_mean: 3.9477\n",
      "validation/coverage_requirements_mean: 6.2706\n",
      "validation/abs_regret_mean: 214.7578\n",
      "validation/x_mean: 2.3333\n",
      "validation/rel_regret_mean: 0.6631\n",
      "Initial best validation metric (abs_regret): 214.7578125\n",
      "Starting training...\n",
      "Epoch: 1/2\n",
      "Problem mode set to: train\n",
      "Epoch Results:\n",
      "validation/objective_mean: 521.0078\n",
      "validation/sym_rel_regret_mean: 0.2200\n",
      "validation/mse_mean: 3.9477\n",
      "validation/coverage_requirements_mean: 6.2706\n",
      "validation/abs_regret_mean: 214.7578\n",
      "validation/x_mean: 2.3333\n",
      "train/solver_calls_mean: 224.5714\n",
      "train/loss_mean: -0.0159\n",
      "train/eval_mean: -0.0000\n",
      "validation/rel_regret_mean: 0.6631\n",
      "train/sigma_mean: 0.5016\n",
      "Problem mode set to: validation\n",
      "Epoch Results:\n",
      "validation/objective_mean: 566.4062\n",
      "validation/sym_rel_regret_mean: 0.2687\n",
      "validation/mse_mean: 21.5131\n",
      "validation/coverage_requirements_mean: 8.3747\n",
      "validation/abs_regret_mean: 260.1562\n",
      "validation/x_mean: 3.4023\n",
      "train/solver_calls_mean: 224.5714\n",
      "train/loss_mean: -0.0159\n",
      "train/eval_mean: -0.0000\n",
      "validation/rel_regret_mean: 0.8835\n",
      "train/sigma_mean: 0.5016\n",
      "Validation evaluation (abs_regret): 305.5546875\n",
      "Epoch: 2/2\n",
      "Problem mode set to: train\n",
      "Epoch Results:\n",
      "validation/objective_mean: 566.4062\n",
      "validation/sym_rel_regret_mean: 0.2687\n",
      "validation/mse_mean: 21.5131\n",
      "validation/coverage_requirements_mean: 8.3747\n",
      "validation/abs_regret_mean: 260.1562\n",
      "validation/x_mean: 3.4023\n",
      "train/solver_calls_mean: 374.5714\n",
      "train/loss_mean: 0.0571\n",
      "train/eval_mean: -0.0000\n",
      "validation/rel_regret_mean: 0.8835\n",
      "train/sigma_mean: 0.5015\n",
      "Problem mode set to: validation\n",
      "Epoch Results:\n",
      "validation/objective_mean: 569.5989\n",
      "validation/sym_rel_regret_mean: 0.2746\n",
      "validation/mse_mean: 22.3459\n",
      "validation/coverage_requirements_mean: 8.5476\n",
      "validation/abs_regret_mean: 263.3490\n",
      "validation/x_mean: 3.5729\n",
      "train/solver_calls_mean: 374.5714\n",
      "train/loss_mean: 0.0571\n",
      "train/eval_mean: -0.0000\n",
      "validation/rel_regret_mean: 0.8930\n",
      "train/sigma_mean: 0.5015\n",
      "Validation evaluation (abs_regret): 269.734375\n",
      "Training finished. Evaluating on the test set...\n",
      "Problem mode set to: test\n",
      "Epoch Results:\n",
      "validation/objective_mean: 569.5989\n",
      "validation/sym_rel_regret_mean: 0.2746\n",
      "test/sym_rel_regret_mean: 0.2486\n",
      "validation/mse_mean: 22.3459\n",
      "validation/coverage_requirements_mean: 8.5476\n",
      "test/x_mean: 2.3333\n",
      "test/mse_mean: 4.4122\n",
      "validation/abs_regret_mean: 263.3490\n",
      "test/rel_regret_mean: 0.7962\n",
      "validation/x_mean: 3.5729\n",
      "train/solver_calls_mean: 374.5714\n",
      "train/loss_mean: 0.0571\n",
      "train/eval_mean: -0.0000\n",
      "test/abs_regret_mean: 284.2143\n",
      "validation/rel_regret_mean: 0.8930\n",
      "train/sigma_mean: 0.5015\n",
      "test/coverage_requirements_mean: 6.2682\n",
      "test/objective_mean: 602.2188\n"
     ]
    },
    {
     "data": {
      "text/plain": [
       "np.float32(214.75781)"
      ]
     },
     "execution_count": 11,
     "metadata": {},
     "output_type": "execute_result"
    }
   ],
   "execution_count": 11
  },
  {
   "cell_type": "markdown",
   "id": "cc567ff180cc716b",
   "metadata": {
    "collapsed": false
   },
   "source": [
    "We can run the same algorithm with a Linear model (0 hidden layers and identity output activation)"
   ]
  },
  {
   "cell_type": "code",
   "id": "39597ba6a98bc729",
   "metadata": {
    "collapsed": false,
    "ExecuteTime": {
     "end_time": "2025-08-21T13:33:30.694454Z",
     "start_time": "2025-08-21T13:33:28.611861Z"
    }
   },
   "source": [
    "linear_predictor_kwargs = {\"n_layers\": 0, \"output_activation\": \"identity\"}\n",
    "decision_maker = SFGEDecisionMaker(\n",
    "    problem=problem,\n",
    "    learning_rate=0.01,\n",
    "    batch_size=32,\n",
    "    device_str=\"cpu\",\n",
    "    loss_function_str=\"regret\",\n",
    "    predictor_str=predictor_str,\n",
    "    predictor_kwargs=linear_predictor_kwargs,\n",
    "    noisifier_kwargs={\"sigma_setting\": \"independent\"},\n",
    ")\n",
    "runner = Runner(decision_maker, num_epochs=2, use_wandb=False)\n",
    "runner.run()"
   ],
   "outputs": [
    {
     "name": "stdout",
     "output_type": "stream",
     "text": [
      "Problem mode set to: train\n",
      "Problem mode set to: train\n",
      "Problem mode set to: train\n",
      "set learning rate to 0.01\n",
      "Epoch 0/2: Starting initial validation...\n",
      "Problem mode set to: validation\n",
      "Epoch Results:\n",
      "validation/objective_mean: 645.5391\n",
      "validation/sym_rel_regret_mean: 0.3029\n",
      "validation/mse_mean: 6.2306\n",
      "validation/coverage_requirements_mean: 6.4558\n",
      "validation/abs_regret_mean: 339.2891\n",
      "validation/x_mean: 2.6224\n",
      "validation/rel_regret_mean: 1.0440\n",
      "Initial best validation metric (abs_regret): 339.2890625\n",
      "Starting training...\n",
      "Epoch: 1/2\n",
      "Problem mode set to: train\n",
      "Epoch Results:\n",
      "validation/objective_mean: 645.5391\n",
      "validation/sym_rel_regret_mean: 0.3029\n",
      "validation/mse_mean: 6.2306\n",
      "validation/coverage_requirements_mean: 6.4558\n",
      "validation/abs_regret_mean: 339.2891\n",
      "validation/x_mean: 2.6224\n",
      "train/solver_calls_mean: 224.5714\n",
      "train/loss_mean: -0.2551\n",
      "train/eval_mean: 0.0000\n",
      "validation/rel_regret_mean: 1.0440\n",
      "train/sigma_mean: 1.9537\n",
      "Problem mode set to: validation\n",
      "Epoch Results:\n",
      "validation/objective_mean: 632.6367\n",
      "validation/sym_rel_regret_mean: 0.2983\n",
      "validation/mse_mean: 5.9749\n",
      "validation/coverage_requirements_mean: 6.5126\n",
      "validation/abs_regret_mean: 326.3867\n",
      "validation/x_mean: 2.6263\n",
      "train/solver_calls_mean: 224.5714\n",
      "train/loss_mean: -0.2551\n",
      "train/eval_mean: 0.0000\n",
      "validation/rel_regret_mean: 1.0109\n",
      "train/sigma_mean: 1.9537\n",
      "Validation evaluation (abs_regret): 313.484375\n",
      "New best validation evaluation (abs_regret): 313.484375 (was 339.2890625)\n",
      "Epoch: 2/2\n",
      "Problem mode set to: train\n",
      "Epoch Results:\n",
      "validation/objective_mean: 632.6367\n",
      "validation/sym_rel_regret_mean: 0.2983\n",
      "validation/mse_mean: 5.9749\n",
      "validation/coverage_requirements_mean: 6.5126\n",
      "validation/abs_regret_mean: 326.3867\n",
      "validation/x_mean: 2.6263\n",
      "train/solver_calls_mean: 374.5714\n",
      "train/loss_mean: -0.2496\n",
      "train/eval_mean: 0.0000\n",
      "validation/rel_regret_mean: 1.0109\n",
      "train/sigma_mean: 1.8983\n",
      "Problem mode set to: validation\n",
      "Epoch Results:\n",
      "validation/objective_mean: 612.9479\n",
      "validation/sym_rel_regret_mean: 0.2887\n",
      "validation/mse_mean: 5.7804\n",
      "validation/coverage_requirements_mean: 6.5635\n",
      "validation/abs_regret_mean: 306.6979\n",
      "validation/x_mean: 2.6241\n",
      "train/solver_calls_mean: 374.5714\n",
      "train/loss_mean: -0.2496\n",
      "train/eval_mean: 0.0000\n",
      "validation/rel_regret_mean: 0.9560\n",
      "train/sigma_mean: 1.8983\n",
      "Validation evaluation (abs_regret): 267.3203125\n",
      "New best validation evaluation (abs_regret): 267.3203125 (was 313.484375)\n",
      "Training finished. Evaluating on the test set...\n",
      "Problem mode set to: test\n",
      "Epoch Results:\n",
      "validation/objective_mean: 612.9479\n",
      "validation/sym_rel_regret_mean: 0.2887\n",
      "test/sym_rel_regret_mean: 0.2705\n",
      "validation/mse_mean: 5.7804\n",
      "validation/coverage_requirements_mean: 6.5635\n",
      "test/x_mean: 2.6845\n",
      "test/mse_mean: 5.5046\n",
      "validation/abs_regret_mean: 306.6979\n",
      "test/rel_regret_mean: 0.9017\n",
      "validation/x_mean: 2.6241\n",
      "train/solver_calls_mean: 374.5714\n",
      "train/loss_mean: -0.2496\n",
      "train/eval_mean: 0.0000\n",
      "test/abs_regret_mean: 301.8482\n",
      "validation/rel_regret_mean: 0.9560\n",
      "train/sigma_mean: 1.8983\n",
      "test/coverage_requirements_mean: 6.7696\n",
      "test/objective_mean: 619.8527\n"
     ]
    },
    {
     "data": {
      "text/plain": [
       "np.float32(267.3203)"
      ]
     },
     "execution_count": 12,
     "metadata": {},
     "output_type": "execute_result"
    }
   ],
   "execution_count": 12
  },
  {
   "cell_type": "markdown",
   "id": "22fc7b5d4ead8f15",
   "metadata": {
    "collapsed": false
   },
   "source": [
    "Suppose we want to compare the SFGE with LANCER algorithm (proposed by Zharmagambetov et al.). To make a fair comparison the predictive model should be the same for both decision makers. Be aware that the LANCER algorithm has many hyperparamters that can be tuned that influence it's performance."
   ]
  },
  {
   "cell_type": "code",
   "id": "70d35c0f3ec73457",
   "metadata": {
    "collapsed": false,
    "ExecuteTime": {
     "end_time": "2025-08-21T13:33:33.526318Z",
     "start_time": "2025-08-21T13:33:31.431422Z"
    }
   },
   "source": [
    "decision_maker = LancerDecisionMaker(\n",
    "    problem=problem,\n",
    "    batch_size=32,\n",
    "    device_str=\"cpu\",\n",
    "    predictor_str=predictor_str,\n",
    "    predictor_kwargs=predictor_kwargs,\n",
    ")\n",
    "runner = Runner(decision_maker, num_epochs=2, use_wandb=False, experiment_name=\"lancer\")\n",
    "runner.run()"
   ],
   "outputs": [
    {
     "name": "stdout",
     "output_type": "stream",
     "text": [
      "Problem mode set to: train\n",
      "Problem mode set to: train\n",
      "Set learning rate surrogate to 0.001\n",
      "Set learning rate predictor to 0.005\n",
      "Epoch 0/2: Starting initial validation...\n",
      "Problem mode set to: validation\n",
      "Epoch Results:\n",
      "validation/objective_mean: 553.7000\n",
      "validation/sym_rel_regret_mean: 0.2318\n",
      "validation/mse_mean: 4.0995\n",
      "validation/coverage_requirements_mean: 6.2278\n",
      "validation/abs_regret_mean: 241.9900\n",
      "validation/x_mean: 2.3333\n",
      "validation/rel_regret_mean: 0.7012\n",
      "Initial best validation metric (abs_regret): 241.99000549316406\n",
      "Starting training...\n",
      "Epoch: 1/2\n",
      "Problem mode set to: train\n",
      "Epoch Results:\n",
      "validation/objective_mean: 553.7000\n",
      "validation/sym_rel_regret_mean: 0.2318\n",
      "validation/mse_mean: 4.0995\n",
      "validation/coverage_requirements_mean: 6.2278\n",
      "validation/abs_regret_mean: 241.9900\n",
      "train/predictor_loss_mean: 5.7146\n",
      "validation/x_mean: 2.3333\n",
      "train/solver_calls_mean: 300.0000\n",
      "train/eval_mean: 277.7250\n",
      "validation/rel_regret_mean: 0.7012\n",
      "train/surrogate_loss_mean: 164730.1250\n",
      "Problem mode set to: validation\n",
      "Epoch Results:\n",
      "validation/objective_mean: 553.7000\n",
      "validation/sym_rel_regret_mean: 0.2318\n",
      "validation/mse_mean: 4.0866\n",
      "validation/coverage_requirements_mean: 6.2093\n",
      "validation/abs_regret_mean: 241.9900\n",
      "train/predictor_loss_mean: 5.7146\n",
      "validation/x_mean: 2.3333\n",
      "train/solver_calls_mean: 300.0000\n",
      "train/eval_mean: 277.7250\n",
      "validation/rel_regret_mean: 0.7012\n",
      "train/surrogate_loss_mean: 164730.1250\n",
      "Validation evaluation (abs_regret): 241.99000549316406\n",
      "Epoch: 2/2\n",
      "Problem mode set to: train\n",
      "Epoch Results:\n",
      "validation/objective_mean: 553.7000\n",
      "validation/sym_rel_regret_mean: 0.2318\n",
      "validation/mse_mean: 4.0866\n",
      "validation/coverage_requirements_mean: 6.2093\n",
      "validation/abs_regret_mean: 241.9900\n",
      "train/predictor_loss_mean: 9.0255\n",
      "validation/x_mean: 2.3333\n",
      "train/solver_calls_mean: 450.0000\n",
      "train/eval_mean: 277.7250\n",
      "validation/rel_regret_mean: 0.7012\n",
      "train/surrogate_loss_mean: 161752.6094\n",
      "Problem mode set to: validation\n",
      "Epoch Results:\n",
      "validation/objective_mean: 553.7000\n",
      "validation/sym_rel_regret_mean: 0.2318\n",
      "validation/mse_mean: 4.0570\n",
      "validation/coverage_requirements_mean: 6.1988\n",
      "validation/abs_regret_mean: 241.9900\n",
      "train/predictor_loss_mean: 9.0255\n",
      "validation/x_mean: 2.3333\n",
      "train/solver_calls_mean: 450.0000\n",
      "train/eval_mean: 277.7250\n",
      "validation/rel_regret_mean: 0.7012\n",
      "train/surrogate_loss_mean: 161752.6094\n",
      "Validation evaluation (abs_regret): 241.99000549316406\n",
      "Training finished. Evaluating on the test set...\n",
      "Problem mode set to: test\n",
      "Epoch Results:\n",
      "validation/objective_mean: 553.7000\n",
      "validation/sym_rel_regret_mean: 0.2318\n",
      "test/sym_rel_regret_mean: 0.2453\n",
      "validation/mse_mean: 4.0570\n",
      "validation/coverage_requirements_mean: 6.1988\n",
      "test/x_mean: 2.3333\n",
      "test/mse_mean: 4.3583\n",
      "validation/abs_regret_mean: 241.9900\n",
      "test/rel_regret_mean: 0.7884\n",
      "train/predictor_loss_mean: 9.0255\n",
      "validation/x_mean: 2.3333\n",
      "train/solver_calls_mean: 450.0000\n",
      "train/eval_mean: 277.7250\n",
      "test/abs_regret_mean: 283.9550\n",
      "test/coverage_requirements_mean: 6.2338\n",
      "validation/rel_regret_mean: 0.7012\n",
      "train/surrogate_loss_mean: 161752.6094\n",
      "test/objective_mean: 603.9250\n"
     ]
    },
    {
     "data": {
      "text/plain": [
       "np.float32(241.99)"
      ]
     },
     "execution_count": 13,
     "metadata": {},
     "output_type": "execute_result"
    }
   ],
   "execution_count": 13
  },
  {
   "cell_type": "markdown",
   "id": "38c12f0e8d013c89",
   "metadata": {
    "collapsed": false
   },
   "source": [
    "And, an evaluation would not be complete without a comparison against prediction-focused-learning, i.e. training the predictive model on the MSE. We can do so by running:\n"
   ]
  },
  {
   "cell_type": "code",
   "id": "9ac3b05c616d4406",
   "metadata": {
    "collapsed": false,
    "ExecuteTime": {
     "end_time": "2025-08-21T13:33:40.890983Z",
     "start_time": "2025-08-21T13:33:38.990936Z"
    }
   },
   "source": [
    "decision_maker = DifferentiableDecisionMaker(\n",
    "    problem=problem,\n",
    "    learning_rate=0.001,\n",
    "    batch_size=32,\n",
    "    device_str=\"cpu\",\n",
    "    loss_function_str=\"mse\",\n",
    "    predictor_str=predictor_str,\n",
    "    predictor_kwargs=predictor_kwargs,\n",
    ")\n",
    "runner = Runner(decision_maker, num_epochs=5, use_wandb=False, experiment_name=\"pfl\")\n",
    "runner.run()"
   ],
   "outputs": [
    {
     "name": "stdout",
     "output_type": "stream",
     "text": [
      "Problem mode set to: train\n",
      "Problem mode set to: train\n",
      "Epoch 0/5: Starting initial validation...\n",
      "Problem mode set to: validation\n",
      "Epoch Results:\n",
      "validation/objective_mean: 521.0078\n",
      "validation/sym_rel_regret_mean: 0.2200\n",
      "validation/mse_mean: 3.8879\n",
      "validation/coverage_requirements_mean: 6.2316\n",
      "validation/abs_regret_mean: 214.7578\n",
      "validation/x_mean: 2.3333\n",
      "validation/rel_regret_mean: 0.6631\n",
      "Initial best validation metric (abs_regret): 214.7578125\n",
      "Starting training...\n",
      "Epoch: 1/5\n",
      "Problem mode set to: train\n",
      "Epoch Results:\n",
      "validation/objective_mean: 521.0078\n",
      "validation/sym_rel_regret_mean: 0.2200\n",
      "validation/mse_mean: 3.8879\n",
      "validation/coverage_requirements_mean: 6.2316\n",
      "validation/abs_regret_mean: 214.7578\n",
      "validation/x_mean: 2.3333\n",
      "train/solver_calls_mean: 100.0000\n",
      "train/loss_mean: 3.6220\n",
      "train/grad_norm_mean: 3.4642\n",
      "validation/rel_regret_mean: 0.6631\n",
      "Problem mode set to: validation\n",
      "Epoch Results:\n",
      "validation/objective_mean: 507.1992\n",
      "validation/sym_rel_regret_mean: 0.2139\n",
      "validation/mse_mean: 3.6287\n",
      "validation/coverage_requirements_mean: 6.3299\n",
      "validation/abs_regret_mean: 200.9492\n",
      "validation/x_mean: 2.3698\n",
      "train/solver_calls_mean: 100.0000\n",
      "train/loss_mean: 3.6220\n",
      "train/grad_norm_mean: 3.4642\n",
      "validation/rel_regret_mean: 0.6349\n",
      "Validation evaluation (abs_regret): 187.140625\n",
      "New best validation evaluation (abs_regret): 187.140625 (was 214.7578125)\n",
      "Epoch: 2/5\n",
      "Problem mode set to: train\n",
      "Epoch Results:\n",
      "validation/objective_mean: 507.1992\n",
      "validation/sym_rel_regret_mean: 0.2139\n",
      "validation/mse_mean: 3.6287\n",
      "validation/coverage_requirements_mean: 6.3299\n",
      "validation/abs_regret_mean: 200.9492\n",
      "validation/x_mean: 2.3698\n",
      "train/solver_calls_mean: 150.0000\n",
      "train/loss_mean: 3.4669\n",
      "train/grad_norm_mean: 3.4791\n",
      "validation/rel_regret_mean: 0.6349\n",
      "Problem mode set to: validation\n",
      "Epoch Results:\n",
      "validation/objective_mean: 497.9062\n",
      "validation/sym_rel_regret_mean: 0.2091\n",
      "validation/mse_mean: 3.5407\n",
      "validation/coverage_requirements_mean: 6.4052\n",
      "validation/abs_regret_mean: 191.6562\n",
      "validation/x_mean: 2.4002\n",
      "train/solver_calls_mean: 150.0000\n",
      "train/loss_mean: 3.4669\n",
      "train/grad_norm_mean: 3.4791\n",
      "validation/rel_regret_mean: 0.6161\n",
      "Validation evaluation (abs_regret): 173.0703125\n",
      "New best validation evaluation (abs_regret): 173.0703125 (was 187.140625)\n",
      "Epoch: 3/5\n",
      "Problem mode set to: train\n",
      "Epoch Results:\n",
      "validation/objective_mean: 497.9062\n",
      "validation/sym_rel_regret_mean: 0.2091\n",
      "validation/mse_mean: 3.5407\n",
      "validation/coverage_requirements_mean: 6.4052\n",
      "validation/abs_regret_mean: 191.6562\n",
      "validation/x_mean: 2.4002\n",
      "train/solver_calls_mean: 200.0000\n",
      "train/loss_mean: 3.3808\n",
      "train/grad_norm_mean: 3.8942\n",
      "validation/rel_regret_mean: 0.6161\n",
      "Problem mode set to: validation\n",
      "Epoch Results:\n",
      "validation/objective_mean: 492.7754\n",
      "validation/sym_rel_regret_mean: 0.2068\n",
      "validation/mse_mean: 3.5468\n",
      "validation/coverage_requirements_mean: 6.4512\n",
      "validation/abs_regret_mean: 186.5254\n",
      "validation/x_mean: 2.4212\n",
      "train/solver_calls_mean: 200.0000\n",
      "train/loss_mean: 3.3808\n",
      "train/grad_norm_mean: 3.8942\n",
      "validation/rel_regret_mean: 0.6050\n",
      "Validation evaluation (abs_regret): 171.1328125\n",
      "New best validation evaluation (abs_regret): 171.1328125 (was 173.0703125)\n",
      "Epoch: 4/5\n",
      "Problem mode set to: train\n",
      "Epoch Results:\n",
      "validation/objective_mean: 492.7754\n",
      "validation/sym_rel_regret_mean: 0.2068\n",
      "validation/mse_mean: 3.5468\n",
      "validation/coverage_requirements_mean: 6.4512\n",
      "validation/abs_regret_mean: 186.5254\n",
      "validation/x_mean: 2.4212\n",
      "train/solver_calls_mean: 250.0000\n",
      "train/loss_mean: 3.2985\n",
      "train/grad_norm_mean: 3.7874\n",
      "validation/rel_regret_mean: 0.6050\n",
      "Problem mode set to: validation\n",
      "Epoch Results:\n",
      "validation/objective_mean: 490.1766\n",
      "validation/sym_rel_regret_mean: 0.2054\n",
      "validation/mse_mean: 3.5234\n",
      "validation/coverage_requirements_mean: 6.4674\n",
      "validation/abs_regret_mean: 183.9266\n",
      "validation/x_mean: 2.4292\n",
      "train/solver_calls_mean: 250.0000\n",
      "train/loss_mean: 3.2985\n",
      "train/grad_norm_mean: 3.7874\n",
      "validation/rel_regret_mean: 0.6002\n",
      "Validation evaluation (abs_regret): 173.53125\n",
      "Epoch: 5/5\n",
      "Problem mode set to: train\n",
      "Epoch Results:\n",
      "validation/objective_mean: 490.1766\n",
      "validation/sym_rel_regret_mean: 0.2054\n",
      "validation/mse_mean: 3.5234\n",
      "validation/coverage_requirements_mean: 6.4674\n",
      "validation/abs_regret_mean: 183.9266\n",
      "validation/x_mean: 2.4292\n",
      "train/solver_calls_mean: 300.0000\n",
      "train/loss_mean: 3.2234\n",
      "train/grad_norm_mean: 3.5964\n",
      "validation/rel_regret_mean: 0.6002\n",
      "Problem mode set to: validation\n",
      "Epoch Results:\n",
      "validation/objective_mean: 488.1458\n",
      "validation/sym_rel_regret_mean: 0.2043\n",
      "validation/mse_mean: 3.5129\n",
      "validation/coverage_requirements_mean: 6.4750\n",
      "validation/abs_regret_mean: 181.8958\n",
      "validation/x_mean: 2.4349\n",
      "train/solver_calls_mean: 300.0000\n",
      "train/loss_mean: 3.2234\n",
      "train/grad_norm_mean: 3.5964\n",
      "validation/rel_regret_mean: 0.5962\n",
      "Validation evaluation (abs_regret): 171.7421875\n",
      "Training finished. Evaluating on the test set...\n",
      "Problem mode set to: test\n",
      "Epoch Results:\n",
      "validation/objective_mean: 488.1458\n",
      "validation/sym_rel_regret_mean: 0.2043\n",
      "test/sym_rel_regret_mean: 0.2259\n",
      "validation/mse_mean: 3.5129\n",
      "validation/coverage_requirements_mean: 6.4750\n",
      "test/x_mean: 2.5402\n",
      "test/mse_mean: 4.1973\n",
      "validation/abs_regret_mean: 181.8958\n",
      "test/rel_regret_mean: 0.6752\n",
      "validation/x_mean: 2.4349\n",
      "train/solver_calls_mean: 300.0000\n",
      "train/loss_mean: 3.2234\n",
      "train/grad_norm_mean: 3.5964\n",
      "test/abs_regret_mean: 222.7098\n",
      "validation/rel_regret_mean: 0.5962\n",
      "test/coverage_requirements_mean: 6.8113\n",
      "test/objective_mean: 540.7143\n"
     ]
    },
    {
     "data": {
      "text/plain": [
       "np.float32(171.13281)"
      ]
     },
     "execution_count": 16,
     "metadata": {},
     "output_type": "execute_result"
    }
   ],
   "execution_count": 16
  },
  {
   "cell_type": "code",
   "execution_count": 17,
   "id": "a826b82042e57236",
   "metadata": {
    "ExecuteTime": {
     "end_time": "2025-06-16T13:42:29.027687Z",
     "start_time": "2025-06-16T13:42:29.024640Z"
    },
    "collapsed": false
   },
   "outputs": [],
   "source": [
    "# TODO: add graphs"
   ]
  }
 ],
 "metadata": {
  "kernelspec": {
   "display_name": "Python 3",
   "language": "python",
   "name": "python3"
  },
  "language_info": {
   "codemirror_mode": {
    "name": "ipython",
    "version": 2
   },
   "file_extension": ".py",
   "mimetype": "text/x-python",
   "name": "python",
   "nbconvert_exporter": "python",
   "pygments_lexer": "ipython2",
   "version": "2.7.6"
  }
 },
 "nbformat": 4,
 "nbformat_minor": 5
}
