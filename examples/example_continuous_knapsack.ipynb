{
 "cells": [
  {
   "cell_type": "code",
   "execution_count": null,
   "id": "f50b7de3-ce20-4965-9a65-ed4bf25746b6",
   "metadata": {
    "ExecuteTime": {
     "end_time": "2025-07-22T09:05:58.042114Z",
     "start_time": "2025-07-22T09:05:58.013958Z"
    }
   },
   "outputs": [],
   "source": [
    "import os\n",
    "import sys\n",
    "\n",
    "path_to_project = os.path.dirname(os.path.abspath(\"\")) + \"/\"\n",
    "sys.path.append(os.path.dirname(os.path.dirname(os.path.abspath(\"decision-focused-learning-codebase\"))))"
   ]
  },
  {
   "cell_type": "markdown",
   "id": "df070019-3604-4d3f-8ecc-fa010dc332c6",
   "metadata": {},
   "source": [
    "### First, we need the data.\n",
    "\n",
    "By default, there are two different ways to obtain data -- generate it on the fly or load from a `.pkl` file.\n",
    "In this notebook, we follow the latter approach.\n"
   ]
  },
  {
   "metadata": {},
   "cell_type": "code",
   "outputs": [],
   "execution_count": null,
   "source": [
    "from src import get_data\n",
    "from src.registries.data import data_registry\n",
    "from src.utils.load import print_registry\n",
    "\n",
    "# Look at implemented functions that generate/load the data\n",
    "print_registry(data_registry)"
   ],
   "id": "d537dc6eae0f6021"
  },
  {
   "metadata": {},
   "cell_type": "code",
   "outputs": [],
   "execution_count": null,
   "source": [
    "# Note that the 'get_data' function returns two outputs (the second one is not relevant here)\n",
    "# In this notebook, we use a simple knapsack problem.\n",
    "data_dict, _ = get_data(\n",
    "    name=\"knapsack_pyepo\",\n",
    ")\n",
    "print()\n",
    "print(data_dict.keys())"
   ],
   "id": "5cd5898f3d34b313"
  },
  {
   "cell_type": "markdown",
   "id": "937ce967-8216-4789-925a-330606363552",
   "metadata": {},
   "source": [
    "### Second, we describe the underlying constrained optimization model.\n",
    "The main way to create optimization models is via the `make_model` function. `make_model` can only create models that were previously registered."
   ]
  },
  {
   "metadata": {},
   "cell_type": "code",
   "outputs": [],
   "execution_count": null,
   "source": [
    "from src.registries.models import model_registry\n",
    "\n",
    "# Models with prefix `cvxpy` will use differentiable `cvxpy_` solver while `gbpy_` will use non-differentiable Guroby.\n",
    "print_registry(model_registry, filter_word=\"knapsack\")"
   ],
   "id": "2e144d1da2b75b65"
  },
  {
   "metadata": {},
   "cell_type": "code",
   "outputs": [],
   "execution_count": null,
   "source": [
    "from src import make_model\n",
    "\n",
    "# We will use the cvxpy_ version as it is differentiable and fits better our continuous case.\n",
    "model_name = \"cvxpy_knapsack_pyepo\"\n",
    "model, params = make_model(name=model_name)\n",
    "# `params` dict contains parameter values used to create optimmization model.\n",
    "print(params)"
   ],
   "id": "eca1899df3e7429c"
  },
  {
   "cell_type": "code",
   "execution_count": null,
   "id": "9c8e2d8f-e4d1-40fb-8281-244d9d6ea86d",
   "metadata": {
    "ExecuteTime": {
     "start_time": "2025-07-22T09:05:58.047550Z"
    }
   },
   "outputs": [],
   "source": [
    "# Entries in `params` can be overriden\n",
    "model, params = make_model(name=model_name, capacity=10)\n",
    "print(params)"
   ]
  },
  {
   "cell_type": "code",
   "execution_count": null,
   "id": "4d52bcec-b184-443a-94cf-4e5e983d520f",
   "metadata": {
    "ExecuteTime": {
     "start_time": "2025-07-22T09:05:58.053240Z"
    }
   },
   "outputs": [],
   "source": [
    "# In our implementation, knapsack is a maximization problem\n",
    "model.model_sense_int, model.model_sense"
   ]
  },
  {
   "cell_type": "markdown",
   "id": "f890285b-9f2a-435f-a3eb-423d550939b3",
   "metadata": {},
   "source": [
    "### Third, we combine data and optimizatoin model to create an instance of DFL Problem."
   ]
  },
  {
   "cell_type": "code",
   "execution_count": null,
   "id": "7bc6942c-ceef-4a85-a352-ddcce8859da5",
   "metadata": {
    "ExecuteTime": {
     "start_time": "2025-07-22T09:05:58.055819Z"
    }
   },
   "outputs": [],
   "source": [
    "from src.problem import Problem\n",
    "\n",
    "# Problem contains data, implementes train/val/test splitting, and allows efficient sampling.\n",
    "problem = Problem(\n",
    "    data_dict=data_dict,\n",
    "    opt_model=model,\n",
    "    train_ratio=0.7,\n",
    "    val_ratio=0.15,\n",
    "    compute_optimal_decisions=True,\n",
    "    compute_optimal_objectives=True,\n",
    "    standardize_features=False,\n",
    "    time_respecting_split=True,\n",
    "    seed=42,\n",
    ")"
   ]
  },
  {
   "cell_type": "code",
   "execution_count": null,
   "id": "20dde4c6-e86a-49a8-889d-0324a6bea930",
   "metadata": {
    "ExecuteTime": {
     "start_time": "2025-07-22T09:05:58.062752Z"
    }
   },
   "outputs": [],
   "source": [
    "# For example, we can set the mode (from ['train', 'val', 'test']) and then sample a batch\n",
    "problem.set_mode(\"train\")\n",
    "b_inds = problem.generate_batch_indices(batch_size=2)\n",
    "for inds in b_inds:\n",
    "    b_data = problem.read_data(inds)\n",
    "    break\n",
    "b_data"
   ]
  },
  {
   "cell_type": "markdown",
   "id": "bf9a425a-80ff-4b8c-a5ae-e4558c48c580",
   "metadata": {},
   "source": [
    "### Now, we can choose a solution method and solve the DFL problem\n",
    "In our codebase, algorithms are implemented via the DecisionMaker class.\n",
    "\n",
    "We begin by usins a simple `DifferentiableDecisionMaker`, which will use differentiability of the CVXPY Layers problems."
   ]
  },
  {
   "metadata": {},
   "cell_type": "code",
   "outputs": [],
   "execution_count": null,
   "source": [
    "from src.decision_makers import DifferentiableDecisionMaker\n",
    "\n",
    "decision_maker = DifferentiableDecisionMaker(\n",
    "    problem=problem,\n",
    "    learning_rate=1e-3,\n",
    "    batch_size=64,\n",
    "    device_str=\"cpu\",\n",
    "    predictor_str=\"MLP\",\n",
    "    decision_model_str=\"base\",\n",
    "    loss_function_str=\"objective\",\n",
    ")"
   ],
   "id": "35eb5b0941579e71"
  },
  {
   "metadata": {},
   "cell_type": "code",
   "outputs": [],
   "execution_count": null,
   "source": "problem.dataset[4]",
   "id": "316de26537ee17ef"
  },
  {
   "cell_type": "code",
   "execution_count": null,
   "id": "c1021211-70cd-47fa-905b-c09b68cea764",
   "metadata": {
    "ExecuteTime": {
     "start_time": "2025-07-22T09:05:58.190582Z"
    },
    "scrolled": true
   },
   "outputs": [],
   "source": [
    "from src.runner import Runner\n",
    "\n",
    "# We are ready to run the training. We use `runner` to wrap everything together and run the experiments.\n",
    "runner = Runner(\n",
    "    decision_maker=decision_maker,\n",
    "    num_epochs=10,\n",
    "    experiments_folder=\"results/\",\n",
    "    main_metric=\"abs_regret\",\n",
    "    store_min_and_max=False,\n",
    "    use_wandb=False,\n",
    "    experiment_name=\"test_experiment\",\n",
    "    project_name=\"test_project\",\n",
    "    early_stop=False,\n",
    "    min_delta_early_stop=None,\n",
    "    patience_early_stop=None,\n",
    "    save_best=True,\n",
    "    seed=None,\n",
    "    config=None,\n",
    ")\n",
    "\n",
    "runner.run()"
   ]
  },
  {
   "cell_type": "code",
   "execution_count": 3,
   "id": "2c665c3f-e0d8-4d80-90a1-aefe94561070",
   "metadata": {
    "ExecuteTime": {
     "end_time": "2025-07-22T09:06:18.179316Z",
     "start_time": "2025-07-22T09:05:58.358402Z"
    }
   },
   "outputs": [
    {
     "ename": "NameError",
     "evalue": "name 'runner' is not defined",
     "output_type": "error",
     "traceback": [
      "\u001B[0;31m---------------------------------------------------------------------------\u001B[0m",
      "\u001B[0;31mNameError\u001B[0m                                 Traceback (most recent call last)",
      "Cell \u001B[0;32mIn[3], line 5\u001B[0m\n\u001B[1;32m      3\u001B[0m fig, axs \u001B[38;5;241m=\u001B[39m plt\u001B[38;5;241m.\u001B[39msubplots(\u001B[38;5;241m1\u001B[39m, \u001B[38;5;241m2\u001B[39m, figsize\u001B[38;5;241m=\u001B[39m(\u001B[38;5;241m10\u001B[39m, \u001B[38;5;241m3\u001B[39m))\n\u001B[1;32m      4\u001B[0m metric \u001B[38;5;241m=\u001B[39m \u001B[38;5;124m'\u001B[39m\u001B[38;5;124mtrain/objective_mean\u001B[39m\u001B[38;5;124m'\u001B[39m\n\u001B[0;32m----> 5\u001B[0m _ \u001B[38;5;241m=\u001B[39m axs[\u001B[38;5;241m0\u001B[39m]\u001B[38;5;241m.\u001B[39mplot([d[metric] \u001B[38;5;28;01mfor\u001B[39;00m d \u001B[38;5;129;01min\u001B[39;00m \u001B[43mrunner\u001B[49m\u001B[38;5;241m.\u001B[39mlogger\u001B[38;5;241m.\u001B[39mepoch_metrics_list \u001B[38;5;28;01mif\u001B[39;00m metric \u001B[38;5;129;01min\u001B[39;00m d\u001B[38;5;241m.\u001B[39mkeys()])\n\u001B[1;32m      6\u001B[0m _ \u001B[38;5;241m=\u001B[39m axs[\u001B[38;5;241m0\u001B[39m]\u001B[38;5;241m.\u001B[39mset_title(metric)\n\u001B[1;32m      8\u001B[0m metric \u001B[38;5;241m=\u001B[39m \u001B[38;5;124m'\u001B[39m\u001B[38;5;124mvalidation/objective_mean\u001B[39m\u001B[38;5;124m'\u001B[39m\n",
      "\u001B[0;31mNameError\u001B[0m: name 'runner' is not defined"
     ]
    },
    {
     "data": {
      "image/png": "[encoded data removed]",
      "text/plain": "<Figure size 1000x300 with 2 Axes>"
     },
     "metadata": {},
     "output_type": "display_data"
    }
   ],
   "source": [
    "import matplotlib.pyplot as plt\n",
    "\n",
    "fig, axs = plt.subplots(1, 2, figsize=(10, 3))\n",
    "metric = \"train/objective_mean\"\n",
    "_ = axs[0].plot([d[metric] for d in runner.logger.epoch_metrics_list if metric in d.keys()])\n",
    "_ = axs[0].set_title(metric)\n",
    "\n",
    "metric = \"validation/objective_mean\"\n",
    "_ = axs[1].plot([d[metric] for d in runner.logger.epoch_metrics_list if metric in d.keys()])\n",
    "_ = axs[1].set_title(metric)"
   ]
  },
  {
   "cell_type": "code",
   "execution_count": null,
   "id": "f3ce86bc-96c5-4952-8783-59ae9ed7e472",
   "metadata": {
    "ExecuteTime": {
     "end_time": "2025-06-16T13:34:35.389473Z",
     "start_time": "2025-05-13T18:44:38.236048Z"
    }
   },
   "outputs": [],
   "source": []
  }
 ],
 "metadata": {
  "kernelspec": {
   "display_name": "Python 3 (ipykernel)",
   "language": "python",
   "name": "python3"
  },
  "language_info": {
   "codemirror_mode": {
    "name": "ipython",
    "version": 3
   },
   "file_extension": ".py",
   "mimetype": "text/x-python",
   "name": "python",
   "nbconvert_exporter": "python",
   "pygments_lexer": "ipython3",
   "version": "3.9.21"
  }
 },
 "nbformat": 4,
 "nbformat_minor": 5
}
