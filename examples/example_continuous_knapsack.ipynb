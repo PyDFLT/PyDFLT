{
 "cells": [
  {
   "cell_type": "code",
   "execution_count": 1,
   "id": "f50b7de3-ce20-4965-9a65-ed4bf25746b6",
   "metadata": {
    "ExecuteTime": {
     "end_time": "2025-09-17T14:17:42.537453Z",
     "start_time": "2025-09-17T14:17:42.532261Z"
    }
   },
   "outputs": [],
   "source": [
    "import os\n",
    "import sys\n",
    "\n",
    "# If you set up your venv using uv and locally want to run the notebooks, you can use: uv sync --group examples\n",
    "\n",
    "path_to_project = os.path.dirname(os.path.abspath(\"\")) + \"/\"\n",
    "sys.path.append(os.path.dirname(os.path.dirname(os.path.abspath(\"decision-focused-learning-codebase\"))))"
   ]
  },
  {
   "cell_type": "markdown",
   "id": "df070019-3604-4d3f-8ecc-fa010dc332c6",
   "metadata": {},
   "source": [
    "### First, we need the data.\n",
    "\n",
    "By default, there are two different ways to obtain data -- generate it on the fly or load from a `.pkl` file.\n",
    "In this notebook, we follow the latter approach.\n"
   ]
  },
  {
   "cell_type": "code",
   "execution_count": 2,
   "id": "d537dc6eae0f6021",
   "metadata": {
    "ExecuteTime": {
     "end_time": "2025-09-17T14:17:52.020454Z",
     "start_time": "2025-09-17T14:17:42.619530Z"
    }
   },
   "outputs": [
    {
     "name": "stdout",
     "output_type": "stream",
     "text": [
      "Auto-Sklearn cannot be imported.\n",
      "Name:  load_data_from_dict\n",
      "\n",
      "Class/function name:  <function load_data_from_dict at 0x10d43ef20>\n",
      "\n",
      "Parameters:  {'path': None}\n",
      "Name:  knapsack_pyepo\n",
      "\n",
      "Class/function name:  <function gen_data_knapsack at 0x10d43f1a0>\n",
      "\n",
      "Parameters:  {'seed': 5, 'num_data': 1000, 'num_features': 5, 'num_items': 10, 'dimension': 2, 'polynomial_degree': 6, 'noise_width': 0.5}\n",
      "Name:  shortestpath_5x5\n",
      "\n",
      "Class/function name:  <function gen_data_shortestpath at 0x10d43f100>\n",
      "\n",
      "Parameters:  {'seed': 5, 'num_data': 500, 'num_features': 5, 'grid': (5, 5), 'polynomial_degree': 5, 'noise_width': 0.5}\n",
      "Name:  wsmc_5x25\n",
      "\n",
      "Class/function name:  <function gen_data_wsmc at 0x11c0cd260>\n",
      "\n",
      "Parameters:  {'seed': 5, 'num_data': 2500, 'num_features': 5, 'num_items': 5, 'degree': 5, 'noise_width': 0.5}\n",
      "Name:  wsmc_10x50\n",
      "\n",
      "Class/function name:  <function gen_data_wsmc at 0x11c0cd260>\n",
      "\n",
      "Parameters:  {'seed': 5, 'num_data': 2500, 'num_features': 5, 'num_items': 10, 'degree': 5, 'noise_width': 0.5}\n"
     ]
    }
   ],
   "source": [
    "from src import get_data\n",
    "from src.registries.data import data_registry\n",
    "from src.utils.load import print_registry\n",
    "\n",
    "# Look at implemented functions that generate/load the data\n",
    "print_registry(data_registry)"
   ]
  },
  {
   "cell_type": "code",
   "execution_count": 3,
   "id": "5cd5898f3d34b313",
   "metadata": {
    "ExecuteTime": {
     "end_time": "2025-09-17T14:17:53.050527Z",
     "start_time": "2025-09-17T14:17:52.867110Z"
    }
   },
   "outputs": [
    {
     "name": "stdout",
     "output_type": "stream",
     "text": [
      "Generating data using knapsack_pyepo\n",
      "Shape of weights: (2, 10), values: (1000, 10), features: (1000, 5).\n",
      "\n",
      "dict_keys(['c', 'features'])\n"
     ]
    }
   ],
   "source": [
    "# Note that the 'get_data' function returns two outputs (the second one is not relevant here)\n",
    "# In this notebook, we use a simple knapsack problem.\n",
    "data_dict, _ = get_data(\n",
    "    name=\"knapsack_pyepo\",\n",
    ")\n",
    "print()\n",
    "print(data_dict.keys())"
   ]
  },
  {
   "cell_type": "markdown",
   "id": "937ce967-8216-4789-925a-330606363552",
   "metadata": {},
   "source": [
    "### Second, we describe the underlying constrained optimization model.\n",
    "The main way to create optimization models is via the `make_model` function. `make_model` can only create models that were previously registered."
   ]
  },
  {
   "cell_type": "code",
   "execution_count": 4,
   "id": "2e144d1da2b75b65",
   "metadata": {
    "ExecuteTime": {
     "end_time": "2025-09-17T14:17:53.586207Z",
     "start_time": "2025-09-17T14:17:53.578925Z"
    }
   },
   "outputs": [
    {
     "name": "stdout",
     "output_type": "stream",
     "text": [
      "Name:  cvxpy_knapsack_pyepo\n",
      "\n",
      "Class/function name:  <class 'src.concrete_models.cvxpy_knapsack.CVXPYDiffKnapsackModel'>\n",
      "\n",
      "Parameters:  {'num_decisions': 10, 'capacity': 8, 'values_lb': 3, 'values_ub': 8, 'dimension': 2, 'seed': None}\n",
      "Name:  grbpy_knapsack_pyepo\n",
      "\n",
      "Class/function name:  <class 'src.concrete_models.grbpy_knapsack.GRBPYKnapsackModel'>\n",
      "\n",
      "Parameters:  {'num_decisions': 10, 'capacity': 20, 'weights_lb': 3, 'weights_ub': 8, 'dimension': 2}\n",
      "Name:  knapsack_2_stage\n",
      "\n",
      "Class/function name:  <class 'src.concrete_models.grbpy_two_stage_knapsack.TwoStageKnapsack'>\n",
      "\n",
      "Parameters:  {'num_decision': 10, 'capacity': 22, 'penalty_add': 0.1, 'penalty_remove': 10, 'values_lb': 3.0, 'values_ub': 8.0, 'seed': 5}\n",
      "Name:  knapsack_2D\n",
      "\n",
      "Class/function name:  <class 'src.concrete_models.grbpy_knapsack.GRBPYKnapsackModel'>\n",
      "\n",
      "Parameters:  {'dimension': 2, 'num_decisions': 10, 'capacity': 22, 'weights_lb': 3.0, 'weights_ub': 8.0, 'seed': 5}\n"
     ]
    }
   ],
   "source": [
    "from src.registries.models import model_registry\n",
    "\n",
    "# Models with prefix `cvxpy` will use differentiable `cvxpy_` solver while `gbpy_` will use non-differentiable Guroby.\n",
    "print_registry(model_registry, filter_word=\"knapsack\")"
   ]
  },
  {
   "cell_type": "code",
   "execution_count": 5,
   "id": "eca1899df3e7429c",
   "metadata": {
    "ExecuteTime": {
     "end_time": "2025-09-17T14:17:54.464266Z",
     "start_time": "2025-09-17T14:17:54.348739Z"
    }
   },
   "outputs": [
    {
     "name": "stdout",
     "output_type": "stream",
     "text": [
      "{'num_decisions': 10, 'capacity': 8, 'values_lb': 3, 'values_ub': 8, 'dimension': 2, 'seed': None}\n"
     ]
    }
   ],
   "source": [
    "from src import make_model\n",
    "\n",
    "# We will use the cvxpy_ version as it is differentiable and fits better our continuous case.\n",
    "model_name = \"cvxpy_knapsack_pyepo\"\n",
    "model, params = make_model(name=model_name)\n",
    "# `params` dict contains parameter values used to create optimmization model.\n",
    "print(params)"
   ]
  },
  {
   "cell_type": "code",
   "execution_count": 6,
   "id": "9c8e2d8f-e4d1-40fb-8281-244d9d6ea86d",
   "metadata": {
    "ExecuteTime": {
     "end_time": "2025-09-17T14:17:55.135321Z",
     "start_time": "2025-09-17T14:17:55.072250Z"
    }
   },
   "outputs": [
    {
     "name": "stdout",
     "output_type": "stream",
     "text": [
      "{'num_decisions': 10, 'capacity': 10, 'values_lb': 3, 'values_ub': 8, 'dimension': 2, 'seed': None}\n"
     ]
    }
   ],
   "source": [
    "# Entries in `params` can be overriden\n",
    "model, params = make_model(name=model_name, capacity=10)\n",
    "print(params)"
   ]
  },
  {
   "cell_type": "code",
   "execution_count": 7,
   "id": "4d52bcec-b184-443a-94cf-4e5e983d520f",
   "metadata": {
    "ExecuteTime": {
     "end_time": "2025-09-17T14:17:55.490381Z",
     "start_time": "2025-09-17T14:17:55.478621Z"
    }
   },
   "outputs": [
    {
     "data": {
      "text/plain": [
       "(-1, 'MAX')"
      ]
     },
     "execution_count": 7,
     "metadata": {},
     "output_type": "execute_result"
    }
   ],
   "source": [
    "# In our implementation, knapsack is a maximization problem\n",
    "model.model_sense_int, model.model_sense"
   ]
  },
  {
   "cell_type": "markdown",
   "id": "f890285b-9f2a-435f-a3eb-423d550939b3",
   "metadata": {},
   "source": [
    "### Third, we combine data and optimizatoin model to create an instance of DFL Problem."
   ]
  },
  {
   "cell_type": "code",
   "execution_count": 8,
   "id": "7bc6942c-ceef-4a85-a352-ddcce8859da5",
   "metadata": {
    "ExecuteTime": {
     "end_time": "2025-09-17T14:17:57.877540Z",
     "start_time": "2025-09-17T14:17:55.650272Z"
    }
   },
   "outputs": [
    {
     "name": "stdout",
     "output_type": "stream",
     "text": [
      "Computing optimal decisions for the entire dataset...\n",
      "Optimal decisions computed and added to dataset.\n",
      "Computing optimal objectives for the entire dataset...\n",
      "Optimal objectives computed and added to dataset.\n",
      "Dataset split completed: Train=700, Validation=150, Test=150\n"
     ]
    }
   ],
   "source": [
    "from src.problem import Problem\n",
    "\n",
    "# Problem contains data, implementes train/val/test splitting, and allows efficient sampling.\n",
    "problem = Problem(\n",
    "    data_dict=data_dict,\n",
    "    opt_model=model,\n",
    "    train_ratio=0.7,\n",
    "    val_ratio=0.15,\n",
    "    compute_optimal_decisions=True,\n",
    "    compute_optimal_objectives=True,\n",
    "    standardize_features=False,\n",
    "    time_respecting_split=True,\n",
    "    seed=42,\n",
    ")"
   ]
  },
  {
   "cell_type": "code",
   "execution_count": 9,
   "id": "20dde4c6-e86a-49a8-889d-0324a6bea930",
   "metadata": {
    "ExecuteTime": {
     "end_time": "2025-09-17T14:17:58.074840Z",
     "start_time": "2025-09-17T14:17:58.053522Z"
    }
   },
   "outputs": [
    {
     "name": "stdout",
     "output_type": "stream",
     "text": [
      "Problem mode set to: train\n"
     ]
    },
    {
     "data": {
      "text/plain": [
       "{'c': tensor([[ 1.,  1.,  1.,  1.,  1.,  1.,  1.,  1.,  1.,  1.],\n",
       "         [ 9., 19.,  4., 11.,  6., 33., 10., 13.,  3., 33.]]),\n",
       " 'features': tensor([[-1.3626,  0.7876, -1.7476, -1.1709, -0.8620],\n",
       "         [ 0.6628,  0.0848,  0.6081,  1.0498,  1.9270]]),\n",
       " 'x_optimal': tensor([[ 1.7971e-11,  1.0000e+00,  2.6955e-01,  5.7179e-02, -6.8401e-12,\n",
       "          -5.4876e-11, -3.8280e-11,  1.0000e+00, -3.3305e-11, -3.0466e-11],\n",
       "         [ 7.4928e-11,  7.6733e-01,  1.0277e-10,  6.4815e-11,  5.0442e-11,\n",
       "           2.9670e-01,  3.4181e-11,  4.6986e-11, -4.3287e-12,  1.0000e+00]]),\n",
       " 'objective_optimal': tensor([ 2.3267, 57.3704])}"
      ]
     },
     "execution_count": 9,
     "metadata": {},
     "output_type": "execute_result"
    }
   ],
   "source": [
    "# For example, we can set the mode (from ['train', 'val', 'test']) and then sample a batch\n",
    "problem.set_mode(\"train\")\n",
    "b_inds = problem.generate_batch_indices(batch_size=2)\n",
    "for inds in b_inds:\n",
    "    b_data = problem.read_data(inds)\n",
    "    break\n",
    "b_data"
   ]
  },
  {
   "cell_type": "markdown",
   "id": "bf9a425a-80ff-4b8c-a5ae-e4558c48c580",
   "metadata": {},
   "source": [
    "### Now, we can choose a solution method and solve the DFL problem\n",
    "In our codebase, algorithms are implemented via the DecisionMaker class.\n",
    "\n",
    "We begin by usins a simple `DifferentiableDecisionMaker`, which will use differentiability of the CVXPY Layers problems."
   ]
  },
  {
   "cell_type": "code",
   "execution_count": 10,
   "id": "35eb5b0941579e71",
   "metadata": {
    "ExecuteTime": {
     "end_time": "2025-09-17T14:17:59.817724Z",
     "start_time": "2025-09-17T14:17:58.308560Z"
    }
   },
   "outputs": [
    {
     "name": "stdout",
     "output_type": "stream",
     "text": [
      "Problem mode set to: train\n",
      "Problem mode set to: train\n"
     ]
    }
   ],
   "source": [
    "from src.decision_makers import DifferentiableDecisionMaker\n",
    "\n",
    "decision_maker = DifferentiableDecisionMaker(\n",
    "    problem=problem,\n",
    "    learning_rate=1e-3,\n",
    "    batch_size=64,\n",
    "    device_str=\"cpu\",\n",
    "    predictor_str=\"MLP\",\n",
    "    decision_model_str=\"base\",\n",
    "    loss_function_str=\"objective\",\n",
    ")"
   ]
  },
  {
   "cell_type": "code",
   "execution_count": 11,
   "id": "316de26537ee17ef",
   "metadata": {
    "ExecuteTime": {
     "end_time": "2025-09-17T14:18:00.393256Z",
     "start_time": "2025-09-17T14:18:00.285870Z"
    }
   },
   "outputs": [
    {
     "data": {
      "text/plain": [
       "{'c': tensor([1., 1., 7., 1., 1., 1., 1., 1., 7., 1.]),\n",
       " 'features': tensor([ 1.1891, -0.0736, -2.8597,  0.7894, -1.8777]),\n",
       " 'x_optimal': tensor([-8.3464e-14, -1.3818e-13,  8.7861e-01, -1.4204e-13, -1.0983e-13,\n",
       "         -6.2488e-14, -9.7452e-14, -1.1670e-13,  9.4133e-01, -1.4895e-13]),\n",
       " 'objective_optimal': tensor(12.7396)}"
      ]
     },
     "execution_count": 11,
     "metadata": {},
     "output_type": "execute_result"
    }
   ],
   "source": [
    "problem.dataset[4]"
   ]
  },
  {
   "cell_type": "code",
   "execution_count": 12,
   "id": "c1021211-70cd-47fa-905b-c09b68cea764",
   "metadata": {
    "ExecuteTime": {
     "end_time": "2025-09-17T14:18:34.284468Z",
     "start_time": "2025-09-17T14:18:00.632805Z"
    },
    "scrolled": true
   },
   "outputs": [
    {
     "name": "stdout",
     "output_type": "stream",
     "text": [
      "Epoch 0/10: Starting initial validation...\n",
      "Problem mode set to: validation\n",
      "Epoch Results:\n",
      "validation/x_mean: 0.1957\n",
      "validation/abs_regret_mean: 7.6161\n",
      "validation/sym_rel_regret_mean: 0.3466\n",
      "validation/objective_mean: 11.3885\n",
      "validation/rel_regret_mean: 0.4882\n",
      "validation/c_mean: 4.6777\n",
      "validation/mse_mean: 53.6107\n",
      "Initial best validation metric (abs_regret): 7.61610746383667\n",
      "Starting training...\n",
      "Epoch: 1/10\n",
      "Problem mode set to: train\n",
      "Epoch Results:\n",
      "validation/x_mean: 0.1957\n",
      "validation/abs_regret_mean: 7.6161\n",
      "train/rel_regret_mean: 0.4902\n",
      "train/sym_rel_regret_mean: 0.3485\n",
      "train/solver_calls_mean: 533.6364\n",
      "validation/sym_rel_regret_mean: 0.3466\n",
      "train/grad_norm_mean: 0.0000\n",
      "train/objective_mean: 9.6518\n",
      "validation/objective_mean: 11.3885\n",
      "train/abs_regret_mean: 8.0914\n",
      "train/loss_mean: -9.6518\n",
      "validation/rel_regret_mean: 0.4882\n",
      "validation/c_mean: 4.6777\n",
      "validation/mse_mean: 53.6107\n",
      "Problem mode set to: validation\n",
      "Epoch Results:\n",
      "validation/x_mean: 0.1956\n",
      "validation/abs_regret_mean: 8.6421\n",
      "train/rel_regret_mean: 0.4902\n",
      "train/sym_rel_regret_mean: 0.3485\n",
      "train/solver_calls_mean: 533.6364\n",
      "validation/sym_rel_regret_mean: 0.3508\n",
      "train/grad_norm_mean: 0.0000\n",
      "train/objective_mean: 9.6518\n",
      "validation/objective_mean: 10.3625\n",
      "train/abs_regret_mean: 8.0914\n",
      "train/loss_mean: -9.6518\n",
      "validation/rel_regret_mean: 0.4960\n",
      "validation/c_mean: 4.5775\n",
      "validation/mse_mean: 54.6127\n",
      "Validation evaluation (abs_regret): 9.668036460876465\n",
      "Epoch: 2/10\n",
      "Problem mode set to: train\n",
      "Epoch Results:\n",
      "validation/x_mean: 0.1956\n",
      "validation/abs_regret_mean: 8.6421\n",
      "train/rel_regret_mean: 0.5004\n",
      "train/sym_rel_regret_mean: 0.3594\n",
      "train/solver_calls_mean: 958.6364\n",
      "validation/sym_rel_regret_mean: 0.3508\n",
      "train/grad_norm_mean: 0.0000\n",
      "train/objective_mean: 9.1190\n",
      "validation/objective_mean: 10.3625\n",
      "train/abs_regret_mean: 8.6266\n",
      "train/loss_mean: -9.1190\n",
      "validation/rel_regret_mean: 0.4960\n",
      "validation/c_mean: 4.5775\n",
      "validation/mse_mean: 54.6127\n",
      "Problem mode set to: validation\n",
      "Epoch Results:\n",
      "validation/x_mean: 0.1959\n",
      "validation/abs_regret_mean: 8.9491\n",
      "train/rel_regret_mean: 0.5004\n",
      "train/sym_rel_regret_mean: 0.3594\n",
      "train/solver_calls_mean: 958.6364\n",
      "validation/sym_rel_regret_mean: 0.3550\n",
      "train/grad_norm_mean: 0.0000\n",
      "train/objective_mean: 9.1190\n",
      "validation/objective_mean: 10.0555\n",
      "train/abs_regret_mean: 8.6266\n",
      "train/loss_mean: -9.1190\n",
      "validation/rel_regret_mean: 0.4989\n",
      "validation/c_mean: 4.5186\n",
      "validation/mse_mean: 55.2106\n",
      "Validation evaluation (abs_regret): 9.563104629516602\n",
      "Epoch: 3/10\n",
      "Problem mode set to: train\n",
      "Epoch Results:\n",
      "validation/x_mean: 0.1959\n",
      "validation/abs_regret_mean: 8.9491\n",
      "train/rel_regret_mean: 0.5057\n",
      "train/sym_rel_regret_mean: 0.3644\n",
      "train/solver_calls_mean: 1383.6364\n",
      "validation/sym_rel_regret_mean: 0.3550\n",
      "train/grad_norm_mean: 0.0000\n",
      "train/objective_mean: 8.9192\n",
      "validation/objective_mean: 10.0555\n",
      "train/abs_regret_mean: 8.8339\n",
      "train/loss_mean: -8.9192\n",
      "validation/rel_regret_mean: 0.4989\n",
      "validation/c_mean: 4.5186\n",
      "validation/mse_mean: 55.2106\n",
      "Problem mode set to: validation\n",
      "Epoch Results:\n",
      "validation/x_mean: 0.1964\n",
      "validation/abs_regret_mean: 9.0880\n",
      "train/rel_regret_mean: 0.5057\n",
      "train/sym_rel_regret_mean: 0.3644\n",
      "train/solver_calls_mean: 1383.6364\n",
      "validation/sym_rel_regret_mean: 0.3558\n",
      "train/grad_norm_mean: 0.0000\n",
      "train/objective_mean: 8.9192\n",
      "validation/objective_mean: 9.9166\n",
      "train/abs_regret_mean: 8.8339\n",
      "train/loss_mean: -8.9192\n",
      "validation/rel_regret_mean: 0.4986\n",
      "validation/c_mean: 4.4744\n",
      "validation/mse_mean: 55.5844\n",
      "Validation evaluation (abs_regret): 9.504782676696777\n",
      "Epoch: 4/10\n",
      "Problem mode set to: train\n",
      "Epoch Results:\n",
      "validation/x_mean: 0.1964\n",
      "validation/abs_regret_mean: 9.0880\n",
      "train/rel_regret_mean: 0.5033\n",
      "train/sym_rel_regret_mean: 0.3626\n",
      "train/solver_calls_mean: 1808.6364\n",
      "validation/sym_rel_regret_mean: 0.3558\n",
      "train/grad_norm_mean: 0.0000\n",
      "train/objective_mean: 8.9103\n",
      "validation/objective_mean: 9.9166\n",
      "train/abs_regret_mean: 8.8364\n",
      "train/loss_mean: -8.9103\n",
      "validation/rel_regret_mean: 0.4986\n",
      "validation/c_mean: 4.4744\n",
      "validation/mse_mean: 55.5844\n",
      "Problem mode set to: validation\n",
      "Epoch Results:\n",
      "validation/x_mean: 0.1952\n",
      "validation/abs_regret_mean: 8.9693\n",
      "train/rel_regret_mean: 0.5033\n",
      "train/sym_rel_regret_mean: 0.3626\n",
      "train/solver_calls_mean: 1808.6364\n",
      "validation/sym_rel_regret_mean: 0.3518\n",
      "train/grad_norm_mean: 0.0000\n",
      "train/objective_mean: 8.9103\n",
      "validation/objective_mean: 10.0353\n",
      "train/abs_regret_mean: 8.8364\n",
      "train/loss_mean: -8.9103\n",
      "validation/rel_regret_mean: 0.4934\n",
      "validation/c_mean: 4.4512\n",
      "validation/mse_mean: 55.9115\n",
      "Validation evaluation (abs_regret): 8.494608879089355\n",
      "Epoch: 5/10\n",
      "Problem mode set to: train\n",
      "Epoch Results:\n",
      "validation/x_mean: 0.1952\n",
      "validation/abs_regret_mean: 8.9693\n",
      "train/rel_regret_mean: 0.4933\n",
      "train/sym_rel_regret_mean: 0.3535\n",
      "train/solver_calls_mean: 2233.6364\n",
      "validation/sym_rel_regret_mean: 0.3518\n",
      "train/grad_norm_mean: 0.0000\n",
      "train/objective_mean: 9.0149\n",
      "validation/objective_mean: 10.0353\n",
      "train/abs_regret_mean: 8.7285\n",
      "train/loss_mean: -9.0149\n",
      "validation/rel_regret_mean: 0.4934\n",
      "validation/c_mean: 4.4512\n",
      "validation/mse_mean: 55.9115\n",
      "Problem mode set to: validation\n",
      "Epoch Results:\n",
      "validation/x_mean: 0.1944\n",
      "validation/abs_regret_mean: 9.1042\n",
      "train/rel_regret_mean: 0.4933\n",
      "train/sym_rel_regret_mean: 0.3535\n",
      "train/solver_calls_mean: 2233.6364\n",
      "validation/sym_rel_regret_mean: 0.3498\n",
      "train/grad_norm_mean: 0.0000\n",
      "train/objective_mean: 9.0149\n",
      "validation/objective_mean: 9.9004\n",
      "train/abs_regret_mean: 8.7285\n",
      "train/loss_mean: -9.0149\n",
      "validation/rel_regret_mean: 0.4908\n",
      "validation/c_mean: 4.3977\n",
      "validation/mse_mean: 56.7339\n",
      "Validation evaluation (abs_regret): 9.778390884399414\n",
      "Epoch: 6/10\n",
      "Problem mode set to: train\n",
      "Epoch Results:\n",
      "validation/x_mean: 0.1944\n",
      "validation/abs_regret_mean: 9.1042\n",
      "train/rel_regret_mean: 0.4894\n",
      "train/sym_rel_regret_mean: 0.3498\n",
      "train/solver_calls_mean: 2658.6364\n",
      "validation/sym_rel_regret_mean: 0.3498\n",
      "train/grad_norm_mean: 0.0000\n",
      "train/objective_mean: 8.9671\n",
      "validation/objective_mean: 9.9004\n",
      "train/abs_regret_mean: 8.7765\n",
      "train/loss_mean: -8.9671\n",
      "validation/rel_regret_mean: 0.4908\n",
      "validation/c_mean: 4.3977\n",
      "validation/mse_mean: 56.7339\n",
      "Problem mode set to: validation\n",
      "Epoch Results:\n",
      "validation/x_mean: 0.1944\n",
      "validation/abs_regret_mean: 9.3088\n",
      "train/rel_regret_mean: 0.4894\n",
      "train/sym_rel_regret_mean: 0.3498\n",
      "train/solver_calls_mean: 2658.6364\n",
      "validation/sym_rel_regret_mean: 0.3515\n",
      "train/grad_norm_mean: 0.0000\n",
      "train/objective_mean: 8.9671\n",
      "validation/objective_mean: 9.6958\n",
      "train/abs_regret_mean: 8.7765\n",
      "train/loss_mean: -8.9671\n",
      "validation/rel_regret_mean: 0.4924\n",
      "validation/c_mean: 4.3504\n",
      "validation/mse_mean: 57.8673\n",
      "Validation evaluation (abs_regret): 10.536251068115234\n",
      "Epoch: 7/10\n",
      "Problem mode set to: train\n",
      "Epoch Results:\n",
      "validation/x_mean: 0.1944\n",
      "validation/abs_regret_mean: 9.3088\n",
      "train/rel_regret_mean: 0.4869\n",
      "train/sym_rel_regret_mean: 0.3476\n",
      "train/solver_calls_mean: 3083.6364\n",
      "validation/sym_rel_regret_mean: 0.3515\n",
      "train/grad_norm_mean: 0.0000\n",
      "train/objective_mean: 8.9416\n",
      "validation/objective_mean: 9.6958\n",
      "train/abs_regret_mean: 8.8029\n",
      "train/loss_mean: -8.9416\n",
      "validation/rel_regret_mean: 0.4924\n",
      "validation/c_mean: 4.3504\n",
      "validation/mse_mean: 57.8673\n",
      "Problem mode set to: validation\n",
      "Epoch Results:\n",
      "validation/x_mean: 0.1940\n",
      "validation/abs_regret_mean: 9.4092\n",
      "train/rel_regret_mean: 0.4869\n",
      "train/sym_rel_regret_mean: 0.3476\n",
      "train/solver_calls_mean: 3083.6364\n",
      "validation/sym_rel_regret_mean: 0.3538\n",
      "train/grad_norm_mean: 0.0000\n",
      "train/objective_mean: 8.9416\n",
      "validation/objective_mean: 9.5954\n",
      "train/abs_regret_mean: 8.8029\n",
      "train/loss_mean: -8.9416\n",
      "validation/rel_regret_mean: 0.4947\n",
      "validation/c_mean: 4.3258\n",
      "validation/mse_mean: 59.1352\n",
      "Validation evaluation (abs_regret): 10.112120628356934\n",
      "Epoch: 8/10\n",
      "Problem mode set to: train\n",
      "Epoch Results:\n",
      "validation/x_mean: 0.1940\n",
      "validation/abs_regret_mean: 9.4092\n",
      "train/rel_regret_mean: 0.4863\n",
      "train/sym_rel_regret_mean: 0.3472\n",
      "train/solver_calls_mean: 3508.6364\n",
      "validation/sym_rel_regret_mean: 0.3538\n",
      "train/grad_norm_mean: 0.0000\n",
      "train/objective_mean: 8.9132\n",
      "validation/objective_mean: 9.5954\n",
      "train/abs_regret_mean: 8.8313\n",
      "train/loss_mean: -8.9132\n",
      "validation/rel_regret_mean: 0.4947\n",
      "validation/c_mean: 4.3258\n",
      "validation/mse_mean: 59.1352\n",
      "Problem mode set to: validation\n",
      "Epoch Results:\n",
      "validation/x_mean: 0.1939\n",
      "validation/abs_regret_mean: 9.4887\n",
      "train/rel_regret_mean: 0.4863\n",
      "train/sym_rel_regret_mean: 0.3472\n",
      "train/solver_calls_mean: 3508.6364\n",
      "validation/sym_rel_regret_mean: 0.3562\n",
      "train/grad_norm_mean: 0.0000\n",
      "train/objective_mean: 8.9132\n",
      "validation/objective_mean: 9.5158\n",
      "train/abs_regret_mean: 8.8313\n",
      "train/loss_mean: -8.9132\n",
      "validation/rel_regret_mean: 0.4968\n",
      "validation/c_mean: 4.3258\n",
      "validation/mse_mean: 60.1281\n",
      "Validation evaluation (abs_regret): 10.125237464904785\n",
      "Epoch: 9/10\n",
      "Problem mode set to: train\n",
      "Epoch Results:\n",
      "validation/x_mean: 0.1939\n",
      "validation/abs_regret_mean: 9.4887\n",
      "train/rel_regret_mean: 0.4859\n",
      "train/sym_rel_regret_mean: 0.3469\n",
      "train/solver_calls_mean: 3933.6364\n",
      "validation/sym_rel_regret_mean: 0.3562\n",
      "train/grad_norm_mean: 0.0000\n",
      "train/objective_mean: 8.9125\n",
      "validation/objective_mean: 9.5158\n",
      "train/abs_regret_mean: 8.8302\n",
      "train/loss_mean: -8.9125\n",
      "validation/rel_regret_mean: 0.4968\n",
      "validation/c_mean: 4.3258\n",
      "validation/mse_mean: 60.1281\n",
      "Problem mode set to: validation\n",
      "Epoch Results:\n",
      "validation/x_mean: 0.1944\n",
      "validation/abs_regret_mean: 9.4453\n",
      "train/rel_regret_mean: 0.4859\n",
      "train/sym_rel_regret_mean: 0.3469\n",
      "train/solver_calls_mean: 3933.6364\n",
      "validation/sym_rel_regret_mean: 0.3568\n",
      "train/grad_norm_mean: 0.0000\n",
      "train/objective_mean: 8.9125\n",
      "validation/objective_mean: 9.5593\n",
      "train/abs_regret_mean: 8.8302\n",
      "train/loss_mean: -8.9125\n",
      "validation/rel_regret_mean: 0.4970\n",
      "validation/c_mean: 4.3464\n",
      "validation/mse_mean: 61.0024\n",
      "Validation evaluation (abs_regret): 9.05437183380127\n",
      "Epoch: 10/10\n",
      "Problem mode set to: train\n",
      "Epoch Results:\n",
      "validation/x_mean: 0.1944\n",
      "validation/abs_regret_mean: 9.4453\n",
      "train/rel_regret_mean: 0.4846\n",
      "train/sym_rel_regret_mean: 0.3459\n",
      "train/solver_calls_mean: 4358.6364\n",
      "validation/sym_rel_regret_mean: 0.3568\n",
      "train/grad_norm_mean: 0.0000\n",
      "train/objective_mean: 8.9568\n",
      "validation/objective_mean: 9.5593\n",
      "train/abs_regret_mean: 8.7850\n",
      "train/loss_mean: -8.9568\n",
      "validation/rel_regret_mean: 0.4970\n",
      "validation/c_mean: 4.3464\n",
      "validation/mse_mean: 61.0024\n",
      "Problem mode set to: validation\n",
      "Epoch Results:\n",
      "validation/x_mean: 0.1949\n",
      "validation/abs_regret_mean: 9.3552\n",
      "train/rel_regret_mean: 0.4846\n",
      "train/sym_rel_regret_mean: 0.3459\n",
      "train/solver_calls_mean: 4358.6364\n",
      "validation/sym_rel_regret_mean: 0.3569\n",
      "train/grad_norm_mean: 0.0000\n",
      "train/objective_mean: 8.9568\n",
      "validation/objective_mean: 9.6494\n",
      "train/abs_regret_mean: 8.7850\n",
      "train/loss_mean: -8.9568\n",
      "validation/rel_regret_mean: 0.4968\n",
      "validation/c_mean: 4.3767\n",
      "validation/mse_mean: 61.8843\n",
      "Validation evaluation (abs_regret): 8.454361915588379\n",
      "Training finished. Evaluating on the test set...\n",
      "Problem mode set to: test\n",
      "Epoch Results:\n",
      "validation/x_mean: 0.1949\n",
      "validation/abs_regret_mean: 9.3552\n",
      "validation/sym_rel_regret_mean: 0.3569\n",
      "train/grad_norm_mean: 0.0000\n",
      "test/sym_rel_regret_mean: 0.3566\n",
      "train/abs_regret_mean: 8.7850\n",
      "train/loss_mean: -8.9568\n",
      "train/solver_calls_mean: 4358.6364\n",
      "test/mse_mean: 32.2371\n",
      "test/objective_mean: 8.7333\n",
      "validation/objective_mean: 9.6494\n",
      "test/abs_regret_mean: 7.6828\n",
      "validation/rel_regret_mean: 0.4968\n",
      "train/rel_regret_mean: 0.4846\n",
      "train/sym_rel_regret_mean: 0.3459\n",
      "test/rel_regret_mean: 0.5017\n",
      "test/x_mean: 0.1979\n",
      "test/c_mean: 4.6778\n",
      "train/objective_mean: 8.9568\n",
      "validation/c_mean: 4.3767\n",
      "validation/mse_mean: 61.8843\n"
     ]
    },
    {
     "data": {
      "text/plain": [
       "np.float32(7.6161075)"
      ]
     },
     "execution_count": 12,
     "metadata": {},
     "output_type": "execute_result"
    }
   ],
   "source": [
    "from src.runner import Runner\n",
    "\n",
    "# We are ready to run the training. We use `runner` to wrap everything together and run the experiments.\n",
    "runner = Runner(\n",
    "    decision_maker=decision_maker,\n",
    "    num_epochs=10,\n",
    "    experiments_folder=\"results/\",\n",
    "    main_metric=\"abs_regret\",\n",
    "    store_min_and_max=False,\n",
    "    use_wandb=False,\n",
    "    experiment_name=\"test_experiment\",\n",
    "    project_name=\"test_project\",\n",
    "    early_stop=False,\n",
    "    min_delta_early_stop=None,\n",
    "    patience_early_stop=None,\n",
    "    save_best=True,\n",
    "    seed=None,\n",
    "    config=None,\n",
    ")\n",
    "\n",
    "runner.run()"
   ]
  },
  {
   "cell_type": "code",
   "execution_count": 13,
   "id": "2c665c3f-e0d8-4d80-90a1-aefe94561070",
   "metadata": {
    "ExecuteTime": {
     "end_time": "2025-09-17T14:18:36.274938Z",
     "start_time": "2025-09-17T14:18:34.388978Z"
    }
   },
   "outputs": [
    {
     "data": {
      "image/png": "[encoded data removed]",
      "text/plain": [
       "<Figure size 1000x300 with 2 Axes>"
      ]
     },
     "metadata": {},
     "output_type": "display_data"
    }
   ],
   "source": [
    "import matplotlib.pyplot as plt\n",
    "\n",
    "fig, axs = plt.subplots(1, 2, figsize=(10, 3))\n",
    "metric = \"train/objective_mean\"\n",
    "_ = axs[0].plot([d[metric] for d in runner.logger.epoch_metrics_list if metric in d.keys()])\n",
    "_ = axs[0].set_title(metric)\n",
    "\n",
    "metric = \"validation/objective_mean\"\n",
    "_ = axs[1].plot([d[metric] for d in runner.logger.epoch_metrics_list if metric in d.keys()])\n",
    "_ = axs[1].set_title(metric)"
   ]
  },
  {
   "cell_type": "code",
   "execution_count": null,
   "id": "f3ce86bc-96c5-4952-8783-59ae9ed7e472",
   "metadata": {
    "ExecuteTime": {
     "end_time": "2025-09-17T14:18:36.460047Z",
     "start_time": "2025-09-17T14:18:36.458727Z"
    }
   },
   "outputs": [],
   "source": []
  }
 ],
 "metadata": {
  "kernelspec": {
   "display_name": "Python 3 (ipykernel)",
   "language": "python",
   "name": "python3"
  },
  "language_info": {
   "codemirror_mode": {
    "name": "ipython",
    "version": 3
   },
   "file_extension": ".py",
   "mimetype": "text/x-python",
   "name": "python",
   "nbconvert_exporter": "python",
   "pygments_lexer": "ipython3",
   "version": "3.9.21"
  }
 },
 "nbformat": 4,
 "nbformat_minor": 5
}
