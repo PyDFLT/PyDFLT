{
 "cells": [
  {
   "cell_type": "markdown",
   "id": "63e2cf92cab3f341",
   "metadata": {},
   "source": [
    "# 3 Analyzing training using Weights and Biases\n",
    "Weights and biases (wandb) is an effective tool for training machine learning models (free for academic use). The `Runner` has an argument called `use_wandb`, which when set to `True` will use weights and biases. In this notebook we show how wandb can be used effectively. First we show how it can help, after we show how to set it up for yourself.\n"
   ]
  },
  {
   "cell_type": "code",
   "id": "bae0285479feee16",
   "metadata": {
    "ExecuteTime": {
     "end_time": "2025-10-13T16:22:09.077246Z",
     "start_time": "2025-10-13T16:22:09.074396Z"
    }
   },
   "source": [
    "import os\n",
    "import sys\n",
    "\n",
    "path_to_project = os.path.dirname(os.path.abspath(\"\")) + \"/\"\n",
    "sys.path.append(os.path.dirname(os.path.dirname(os.path.abspath(\"PyDFLT\"))))"
   ],
   "outputs": [],
   "execution_count": 1
  },
  {
   "cell_type": "markdown",
   "id": "8336debb16ca2fd6",
   "metadata": {},
   "source": [
    "## 3.1 Experimental set-up\n",
    "We run the same experiment as in notebook 2, now with more data and seeds. We compare DFL methods SPO+ [1] and PFYL [2] to baseline PFL on the shortest path problem. Below is the code required to run it, but this run is already stored in wandb."
   ]
  },
  {
   "cell_type": "code",
   "id": "initial_id",
   "metadata": {
    "collapsed": true,
    "ExecuteTime": {
     "end_time": "2025-10-13T16:22:09.083240Z",
     "start_time": "2025-10-13T16:22:09.080702Z"
    }
   },
   "source": [
    "rerun_experiment = False\n",
    "if rerun_experiment:\n",
    "    import yaml\n",
    "\n",
    "    from src.utils.experiments import run, update_config\n",
    "\n",
    "    experiment_kwargs = {\n",
    "        \"SPO+\": {},\n",
    "        \"PFYL\": {\n",
    "            \"decision_maker\": {\n",
    "                \"loss_function_str\": \"perturbedFenchelYoung\",\n",
    "            },\n",
    "        },\n",
    "        \"PFL\": {\n",
    "            \"decision_maker\": {\n",
    "                \"loss_function_str\": \"mse\",\n",
    "            }\n",
    "        },\n",
    "    }\n",
    "\n",
    "    seeds = list(range(5))\n",
    "    for experiment_name, kwargs in experiment_kwargs.items():\n",
    "        for seed in seeds:\n",
    "            yaml_dir = \"configs/shortest_path_wandb.yml\"\n",
    "            config = yaml.safe_load(open(yaml_dir))\n",
    "            config[\"runner\"][\"experiment_name\"] = experiment_name\n",
    "            for key in config:\n",
    "                if isinstance(config[key], dict) and \"seed\" in config[key]:\n",
    "                    config[key][\"seed\"] = seed\n",
    "            updated_config = update_config(config, kwargs)\n",
    "            run(updated_config)"
   ],
   "outputs": [],
   "execution_count": 2
  },
  {
   "cell_type": "markdown",
   "id": "d04c7c0ea679223a",
   "metadata": {},
   "source": "We display the wandb dashboard below, alternatively one can go to the [link](https://wandb.ai/noahschutte-tudelft/shortest_path/runs/)"
  },
  {
   "metadata": {
    "ExecuteTime": {
     "end_time": "2025-10-13T16:22:09.858633Z",
     "start_time": "2025-10-13T16:22:09.171560Z"
    }
   },
   "cell_type": "code",
   "source": [
    "import wandb\n",
    "from IPython.display import IFrame\n",
    "\n",
    "# Display it inline\n",
    "IFrame(\"https://wandb.ai/noahschutte-tudelft/shortest_path/runs/\", width=1000, height=800)"
   ],
   "id": "c374623ccf6d358a",
   "outputs": [
    {
     "data": {
      "text/plain": [
       "<IPython.lib.display.IFrame at 0x10b9d2510>"
      ],
      "text/html": [
       "\n",
       "        <iframe\n",
       "            width=\"1000\"\n",
       "            height=\"800\"\n",
       "            src=\"https://wandb.ai/noahschutte-tudelft/shortest_path/runs/\"\n",
       "            frameborder=\"0\"\n",
       "            allowfullscreen\n",
       "            \n",
       "        ></iframe>\n",
       "        "
      ]
     },
     "execution_count": 3,
     "metadata": {},
     "output_type": "execute_result"
    }
   ],
   "execution_count": 3
  },
  {
   "metadata": {},
   "cell_type": "markdown",
   "source": [
    "## 3.2 Analyzing using wandb\n",
    "Above (or through this [link](https://wandb.ai/noahschutte-tudelft/shortest_path/runs/)) a wandb dashboard is shown.\n",
    "\n",
    "On the left all runs are listed, grouped by name. Runs can be viewed individually as well, where the runs config is also listed so it is clear what all the parameters are.\n",
    "\n",
    "The main group of panels is broken down into test, train, validation and system. The non-system panels include multiple metrics. In general, methods as defined in the PyDFLT registries include metrics that do not increase runtime. For example, training with PFL but recording regret on the train or validation set would increase training time, so this is non-default. Outside of regular quality metrics, some direct prediction and decision metrics are also recorded. In the above panels for example one can see validation/arc_costs_mean and validation/select_arc_mean, which show the average predicted costs and the average number of selected arcs at each epoch.\n",
    "\n",
    "Additional panels can be added and customized on the top right.\n",
    "\n"
   ],
   "id": "3e7538f20b15b98a"
  },
  {
   "metadata": {},
   "cell_type": "markdown",
   "source": [
    "## 3.3 Setting up wandb\n",
    "To set up wandb, you can make an account [here](wandb.ai). After this, you can go [here](https://wandb.ai/authorize) to copy your api key. There are a few ways to make sure you can use wandb:\n",
    "1. Set an environment variable named `WANDB_KEY` with your key, or create a `.env` file with `WANDB_KEY = 'your-key-here'`.\n",
    "2. Using your api key you can run the following cell (or use the terminal command: `wandb login`). If you have logged in using a certain api key once, you do not have to log in again, as it automatically stores the key locally."
   ],
   "id": "ea96716b1e6f333d"
  },
  {
   "cell_type": "code",
   "id": "5e2b5dc64edce64d",
   "metadata": {
    "ExecuteTime": {
     "end_time": "2025-10-13T16:22:09.877751Z",
     "start_time": "2025-10-13T16:22:09.875928Z"
    }
   },
   "source": [
    "login_wandb = False\n",
    "if login_wandb:\n",
    "    wandb.login(key=\"YOUR_API_KEY\")"
   ],
   "outputs": [],
   "execution_count": 4
  }
 ],
 "metadata": {
  "kernelspec": {
   "display_name": "Python 3",
   "language": "python",
   "name": "python3"
  },
  "language_info": {
   "codemirror_mode": {
    "name": "ipython",
    "version": 2
   },
   "file_extension": ".py",
   "mimetype": "text/x-python",
   "name": "python",
   "nbconvert_exporter": "python",
   "pygments_lexer": "ipython3",
   "version": "2.7.6"
  }
 },
 "nbformat": 4,
 "nbformat_minor": 5
}
